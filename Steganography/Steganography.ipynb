{
 "cells": [
  {
   "cell_type": "markdown",
   "metadata": {},
   "source": [
    "# Steganography - Hiding Secret Messages in Images\n",
    "Here is the an image that has Shakespeare's sonnets from 101-154:\n",
    "![Shakespeare in an image](img/SecretSonnet.png)\n",
    "\n",
    "And here's an image of the BSB:\n",
    "![Just the BSB](img/BSB.jpg)\n",
    "\n",
    "\n",
    "So how do you do it?"
   ]
  },
  {
   "cell_type": "code",
   "execution_count": 5,
   "metadata": {},
   "outputs": [
    {
     "name": "stdout",
     "output_type": "stream",
     "text": [
      "255\n",
      "['11', '11', '11', '11']\n",
      "255\n"
     ]
    }
   ],
   "source": [
    "def code2binary(code):\n",
    "    # Takes a number or a string and converts it to binary, as well as splitting it into 2-mers\n",
    "    if isinstance(code,str):\n",
    "        rawBinary = ''.join(format(ord(x), '08b') for x in code)\n",
    "        return [rawBinary[i:i+2] for i in range(0,len(rawBinary),2)]\n",
    "    else:\n",
    "        rawBinary = str(format(code, '08b'))\n",
    "        return [rawBinary[i:i+2] for i in range(0,len(rawBinary),2)]\n",
    "def binary2num(seq):\n",
    "    # Correctly reformats a binary sequence from code2binary into an integer\n",
    "    return int(''.join(seq),2) \n",
    "a = code2binary(255)\n",
    "b = binary2num(a)\n",
    "print(255)\n",
    "print(a)\n",
    "print(b)"
   ]
  },
  {
   "cell_type": "code",
   "execution_count": 2,
   "metadata": {},
   "outputs": [
    {
     "name": "stdout",
     "output_type": "stream",
     "text": [
      "Number of columns: 4085\n",
      "Number of rows: 1367\n",
      "(201, 215, 226)\n"
     ]
    }
   ],
   "source": [
    "import matplotlib.image as mpimg \n",
    "import matplotlib.pyplot as plt \n",
    "import numpy as np\n",
    "from skimage import color\n",
    "from skimage import io\n",
    "from PIL import Image\n",
    "\n",
    "im = Image.open('BSB.jpg')\n",
    "pixelMap = im.load()\n",
    "\n",
    "print('Number of columns: '+str(im.size[0]))\n",
    "print('Number of rows: '+str(im.size[1]))\n",
    "print(pixelMap[0,0])"
   ]
  },
  {
   "cell_type": "markdown",
   "metadata": {},
   "source": [
    "The last list displayed represents the RGB (red, green, blue) values for that pixel. Here are the steps:\n",
    "1. Convert each number to binary\n",
    "## ['11', '00', '10', '01']\n",
    "## ['11', '01', '01', '11']\n",
    "## ['11', '10', '00', '10']\n",
    "2. Convert our message to binary as well. For example, 'hi' can be represented as:\n",
    "## ['01', '10', '10', '00', '01', '10', '10', '01']\n",
    "3. Since images are so large (ours has 16752585 total values), what we are going to do is only change the last two numbers, also known as the **least significant bit**. For the first three binary 2-mers we only have to change '11' to '10'. So now our RGB is represented in binary as: \n",
    "## ['11', '00', '10', '01']\n",
    "## ['11', '01', '01', '10']\n",
    "## ['11', '10', '00', '10']\n",
    "\n",
    "And our RGB is represented as:\n",
    "## [201, 214, 226]"
   ]
  },
  {
   "cell_type": "code",
   "execution_count": 3,
   "metadata": {},
   "outputs": [
    {
     "name": "stdout",
     "output_type": "stream",
     "text": [
      "Original upper left pixel: (201, 215, 226)\n",
      "New upper left pixel: (200, 212, 226)\n"
     ]
    }
   ],
   "source": [
    "# Load up sonnets and convert to binary\n",
    "sonnetsFile = open('sonnets.txt')\n",
    "sonnets = sonnetsFile.read()\n",
    "sonnetsFile.close()\n",
    "sonnets = ' '.join(sonnets)\n",
    "\n",
    "sonnetsBinary = code2binary(sonnets)\n",
    "\n",
    "# Load up image, convert to pixel map, and load a new image as well\n",
    "im = Image.open('BSB.jpg')\n",
    "pixelMap = im.load()\n",
    "\n",
    "img = Image.new( im.mode, im.size)\n",
    "pixelsNew = img.load()\n",
    "c = 0\n",
    "# Loop through rows and columns\n",
    "for i in range(img.size[0]):\n",
    "    for j in range(img.size[1]):\n",
    "        binaryColorTuple = tuple([code2binary(i) for i in pixelMap[i,j]])\n",
    "        # If there is room left in the sonnet, put it in the image\n",
    "        if c < len(sonnetsBinary):\n",
    "            tempNewColor = []\n",
    "            for rgb in range(0,3):\n",
    "                if c < len(sonnetsBinary):\n",
    "                    # Replace LSB with sonnet binary code\n",
    "                    binaryColorTuple[rgb][-1] = sonnetsBinary[c]\n",
    "                    tempNewColor.append(binary2num(binaryColorTuple[rgb]))\n",
    "                    c += 1\n",
    "                else:\n",
    "                    tempNewColor.append(binary2num(binaryColorTuple[rgb]))\n",
    "            pixelsNew[i,j] = tuple(tempNewColor)\n",
    "        else:\n",
    "            pixelsNew[i,j] = pixelMap[i,j]\n",
    "            \n",
    "img.show()\n",
    "img.save('SecretSonnet.png','PNG')\n",
    "# Proof we changed it:\n",
    "im2 = Image.open('BSB.jpg')\n",
    "pm2 = im2.load()\n",
    "\n",
    "print('Original upper left pixel: '+str(pm2[0,0]))\n",
    "print('New upper left pixel: '+str(pixelsNew[0,0]))"
   ]
  },
  {
   "cell_type": "code",
   "execution_count": 20,
   "metadata": {},
   "outputs": [],
   "source": [
    "imgS = io.imread('lenna.png')\n",
    "img = io.imread('BSB.jpg')\n",
    "\n",
    "imgS = Image.open('lenna.png')\n",
    "pixelMap = imgS.load()\n",
    "\n",
    "binarypixelMap = pixelMap\n",
    "\n",
    "# Change image to binary format which can be accessed the same way\n",
    "rows = []\n",
    "for i in range(imgS.size[0]):\n",
    "    row = []\n",
    "    for j in range(imgS.size[1]):\n",
    "        row.append([code2binary(x) for x in pixelMap[i,j]])\n",
    "    rows.append(row)"
   ]
  },
  {
   "cell_type": "code",
   "execution_count": 23,
   "metadata": {},
   "outputs": [
    {
     "ename": "TypeError",
     "evalue": "sequence item 0: expected str instance, list found",
     "output_type": "error",
     "traceback": [
      "\u001b[1;31m---------------------------------------------------------------------------\u001b[0m",
      "\u001b[1;31mTypeError\u001b[0m                                 Traceback (most recent call last)",
      "\u001b[1;32m<ipython-input-23-06e1598c1ff6>\u001b[0m in \u001b[0;36m<module>\u001b[1;34m()\u001b[0m\n\u001b[1;32m----> 1\u001b[1;33m \u001b[1;34m' '\u001b[0m\u001b[1;33m.\u001b[0m\u001b[0mjoin\u001b[0m\u001b[1;33m(\u001b[0m\u001b[0mrows\u001b[0m\u001b[1;33m[\u001b[0m\u001b[1;36m20\u001b[0m\u001b[1;33m]\u001b[0m\u001b[1;33m[\u001b[0m\u001b[1;36m11\u001b[0m\u001b[1;33m]\u001b[0m\u001b[1;33m)\u001b[0m\u001b[1;33m\u001b[0m\u001b[0m\n\u001b[0m\u001b[0;32m      2\u001b[0m \u001b[0mprint\u001b[0m\u001b[1;33m(\u001b[0m\u001b[0mpixelMap\u001b[0m\u001b[1;33m[\u001b[0m\u001b[1;36m20\u001b[0m\u001b[1;33m,\u001b[0m\u001b[1;36m11\u001b[0m\u001b[1;33m]\u001b[0m\u001b[1;33m)\u001b[0m\u001b[1;33m\u001b[0m\u001b[0m\n\u001b[0;32m      3\u001b[0m \u001b[0mprint\u001b[0m\u001b[1;33m(\u001b[0m\u001b[0mcode2binary\u001b[0m\u001b[1;33m(\u001b[0m\u001b[1;36m224\u001b[0m\u001b[1;33m)\u001b[0m\u001b[1;33m)\u001b[0m\u001b[1;33m\u001b[0m\u001b[0m\n",
      "\u001b[1;31mTypeError\u001b[0m: sequence item 0: expected str instance, list found"
     ]
    }
   ],
   "source": [
    "' '.join(rows[20][11])\n",
    "print(pixelMap[20,11])\n",
    "print(code2binary(224))"
   ]
  }
 ],
 "metadata": {
  "kernelspec": {
   "display_name": "Python 3",
   "language": "python",
   "name": "python3"
  },
  "language_info": {
   "codemirror_mode": {
    "name": "ipython",
    "version": 3
   },
   "file_extension": ".py",
   "mimetype": "text/x-python",
   "name": "python",
   "nbconvert_exporter": "python",
   "pygments_lexer": "ipython3",
   "version": "3.6.5"
  }
 },
 "nbformat": 4,
 "nbformat_minor": 2
}
