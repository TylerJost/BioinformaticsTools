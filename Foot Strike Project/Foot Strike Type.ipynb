{
 "cells": [
  {
   "cell_type": "markdown",
   "metadata": {},
   "source": [
    "# Foot Strike Type\n",
    "## Introduction\n",
    "Foot strike describes how the foot makes contact with the ground as a runner begins stance phase. There is much debate about the positives and negatives about forefoot striking and rearfoot striking. I have built a dataset (FSData.csv) which contains 4 variables:\n",
    "1. AFI - Ankle flexion at impact\n",
    "2. AFM - Mean ankle flexion over stance phase\n",
    "3. Peak No - Number of peaks in ground reaction force data. Typically a transient peak correlates to heel striking. \n",
    "4. Foot Diff - The height difference (mm) between the toe and ankle markers.\n",
    "\n",
    "Because we don't have enough forefoot and midfoot data, I have classified data as 1 (rearfoot striking) or 0 (forefoot striking). Improvements \n",
    "\n",
    "\n",
    "## Code\n",
    "### Load in data"
   ]
  },
  {
   "cell_type": "code",
   "execution_count": 24,
   "metadata": {},
   "outputs": [],
   "source": [
    "import pandas as pd\n",
    "from sklearn.ensemble import RandomForestClassifier\n",
    "from sklearn.linear_model import LogisticRegression\n",
    "from sklearn.svm import LinearSVC\n",
    "from sklearn.model_selection import train_test_split\n",
    "import numpy as np\n",
    "import matplotlib.pyplot as plt\n",
    "def printScores(model,X_train,X_test,y_train,y_test):\n",
    "    print(\"Training set score: {:.3f}\".format(model.score(X_train, y_train)))\n",
    "    print(\"Test set score: {:.3f}\".format(model.score(X_test, y_test)))\n",
    "    \n",
    "fsData = pd.read_csv('FSData.csv', header = None)\n",
    "fsData.columns = ['AFI', 'AFM', 'Peak Num', 'Foot Diff', 'Strike Type']\n",
    "fsData = fsData.sample(frac=1).reset_index(drop=True)\n",
    "trainNo = np.floor(fsData.shape[0]*.75)\n",
    "data_train = fsData.iloc[0:int(trainNo)+1,:]\n",
    "data_test = fsData.iloc[int(trainNo)+1:,:]\n",
    "X_train=data_train.iloc[:,0:4].values\n",
    "y_train = data_train.iloc[:,4].values\n",
    "X_test=data_test.iloc[:,0:4].values\n",
    "y_test = data_test.iloc[:,4].values"
   ]
  },
  {
   "cell_type": "markdown",
   "metadata": {},
   "source": [
    "### Analyze with Regression"
   ]
  },
  {
   "cell_type": "code",
   "execution_count": 25,
   "metadata": {},
   "outputs": [
    {
     "name": "stdout",
     "output_type": "stream",
     "text": [
      "Training set score: 0.860\n",
      "Test set score: 0.863\n"
     ]
    }
   ],
   "source": [
    "logreg = LogisticRegression(C = 100 ).fit(X_train,y_train)\n",
    "printScores(logreg,X_train, X_test, y_train, y_test)"
   ]
  },
  {
   "cell_type": "markdown",
   "metadata": {},
   "source": [
    "### Analyze data with random forest"
   ]
  },
  {
   "cell_type": "code",
   "execution_count": 3,
   "metadata": {},
   "outputs": [
    {
     "name": "stdout",
     "output_type": "stream",
     "text": [
      "Training set score: 1.000\n",
      "Test set score: 0.740\n"
     ]
    }
   ],
   "source": [
    "forest = RandomForestClassifier(n_estimators = 1000, max_features = 1)\n",
    "forest.fit(X_train,y_train)\n",
    "printScores(forest,X_train, X_test, y_train, y_test)"
   ]
  },
  {
   "cell_type": "code",
   "execution_count": 4,
   "metadata": {},
   "outputs": [
    {
     "data": {
      "image/png": "[encoded data removed]",
      "text/plain": [
       "<matplotlib.figure.Figure at 0x25513e3d048>"
      ]
     },
     "metadata": {},
     "output_type": "display_data"
    }
   ],
   "source": [
    "features = list(fsData.columns)[0:4]\n",
    "n_features = len(features)\n",
    "plt.barh(range(n_features), forest.feature_importances_, align='center')\n",
    "plt.yticks(np.arange(n_features),features )\n",
    "plt.xlabel('Feature Importance')\n",
    "plt.ylabel(\"Feature Name\")\n",
    "plt.show();"
   ]
  },
  {
   "cell_type": "markdown",
   "metadata": {},
   "source": [
    "## Conclusions\n",
    "So obviously it's not going to be making any big splashes yet. But it's still a good start and probably better than I am at predicting foot strike. I will update over time as I learn more techniques. There are also a few more variables I could add in. "
   ]
  }
 ],
 "metadata": {
  "kernelspec": {
   "display_name": "Python 3",
   "language": "python",
   "name": "python3"
  },
  "language_info": {
   "codemirror_mode": {
    "name": "ipython",
    "version": 3
   },
   "file_extension": ".py",
   "mimetype": "text/x-python",
   "name": "python",
   "nbconvert_exporter": "python",
   "pygments_lexer": "ipython3",
   "version": "3.6.1"
  }
 },
 "nbformat": 4,
 "nbformat_minor": 2
}
